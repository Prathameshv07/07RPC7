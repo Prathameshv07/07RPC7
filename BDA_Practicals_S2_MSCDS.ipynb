{
  "nbformat": 4,
  "nbformat_minor": 0,
  "metadata": {
    "colab": {
      "provenance": [],
      "collapsed_sections": [
        "TxYflCvZuSmW",
        "bQEtM3wRS05a",
        "DZ-E3r21uXwd",
        "h1lcwj7LS62S",
        "_cvc4FpfScHd",
        "oPKEXNS_uvS1",
        "2nE7HWOcTPuW",
        "cyxu53hFTTWD",
        "s9ZIKxKAHa2e",
        "Cx2cSfYuTXpB",
        "HsCYex1STapK",
        "mKvIv6k7Tikp",
        "t1gGNh69IB_1",
        "UDjRODNUTnbg",
        "ynzodi_oIHI9",
        "wXO5JXARUCXD"
      ]
    },
    "kernelspec": {
      "name": "python3",
      "display_name": "Python 3"
    },
    "language_info": {
      "name": "python"
    }
  },
  "cells": [
    {
      "cell_type": "markdown",
      "source": [
        "# Practical 2 -Apriori Algorithm (Association)"
      ],
      "metadata": {
        "id": "TxYflCvZuSmW"
      }
    },
    {
      "cell_type": "markdown",
      "source": [
        "## **In Python**"
      ],
      "metadata": {
        "id": "bQEtM3wRS05a"
      }
    },
    {
      "cell_type": "code",
      "source": [
        "# @title\n",
        "!pip install apyori"
      ],
      "metadata": {
        "id": "vYRneX2EKPQX"
      },
      "execution_count": null,
      "outputs": []
    },
    {
      "cell_type": "code",
      "execution_count": null,
      "metadata": {
        "id": "lE5VCr1ft6_c"
      },
      "outputs": [],
      "source": [
        "import pandas as pd\n",
        "import seaborn as sns\n",
        "import matplotlib.pyplot as plt\n",
        "from apyori import apriori\n",
        "\n",
        "# Load the dataset\n",
        "df = pd.read_csv(\"/content/drive/MyDrive/BD_Practicals/P2_Groceries_dataset.csv\")\n",
        "\n",
        "# Data Validation\n",
        "df['Date'] = pd.to_datetime(df['Date'])\n",
        "\n",
        "# EDA - Member Shopping Frequency\n",
        "member_shopping_frequency = df['Member_number'].value_counts().sort_values(ascending=False)\n",
        "\n",
        "# Plotting\n",
        "plt.figure(figsize=(8, 6))\n",
        "sns.histplot(member_shopping_frequency, bins=8, color='skyblue', kde=False)\n",
        "plt.xlabel('Number of Purchases')\n",
        "plt.ylabel('Number of Members')\n",
        "plt.title('Member Shopping Frequency')\n",
        "plt.show()\n",
        "\n",
        "# Monthly Purchase Counts\n",
        "monthly_purchase_counts = df['Date'].dt.month.value_counts().sort_index()\n",
        "plt.figure(figsize=(10, 6))\n",
        "sns.barplot(x=monthly_purchase_counts.index, y=monthly_purchase_counts.values, color='skyblue')\n",
        "plt.xlabel('Month')\n",
        "plt.ylabel('Purchase Count')\n",
        "plt.title('Monthly Purchase Counts')\n",
        "plt.show()\n",
        "\n",
        "# Top 10 Items Frequency\n",
        "top_items = df['itemDescription'].value_counts().head(10)\n",
        "plt.figure(figsize=(10, 6))\n",
        "sns.barplot(x=top_items.index, y=top_items.values, color='skyblue')\n",
        "plt.xticks(rotation=45, ha='right')\n",
        "plt.title('Top 10 Items Frequency')\n",
        "plt.show()\n",
        "\n",
        "# Data Transformation\n",
        "#df.drop(columns=['Month'], inplace=True)\n",
        "\n",
        "# Association Rule Mining using Apriori\n",
        "transactions_list = df.groupby('Member_number')['itemDescription'].apply(list).tolist()\n",
        "association_rules = apriori(transactions_list, min_support=0.001, min_confidence=0.05, min_lift=4, min_length=2, max_length=2)\n",
        "rules_list = list(association_rules)\n",
        "\n",
        "# Extracting and displaying results\n",
        "results_df = pd.DataFrame([(tuple(rule[2][0][0]), tuple(rule[2][0][1]), rule[1], rule[2][0][2], rule[2][0][3]) for rule in rules_list],\n",
        "                           columns=['Antecedent', 'Consequent', 'Support', 'Confidence', 'Lift'])\n",
        "print(results_df)\n"
      ]
    },
    {
      "cell_type": "markdown",
      "source": [
        "# Practical 3 - K-Mean Algorithm\n"
      ],
      "metadata": {
        "id": "DZ-E3r21uXwd"
      }
    },
    {
      "cell_type": "markdown",
      "source": [
        "## **R**"
      ],
      "metadata": {
        "id": "_cvc4FpfScHd"
      }
    },
    {
      "cell_type": "code",
      "source": [
        "# K-Means Clustering\n",
        "\n",
        "# Importing the dataset\n",
        "dataset = read.csv(\"C:\\\\Users\\\\chand\\\\OneDrive\\\\Documents\\\\TCSC\\\\M.sc DS 23-25\\\\SEM2\\\\Practical\\\\BigData\\\\P3_Mall_Customers.csv\")\n",
        "head(dataset)\n",
        "dataset = dataset[4:5]\n",
        "head(dataset)\n",
        "\n",
        "wcss = vector()\n",
        "for (i in 1:10) wcss[i] = sum(kmeans(dataset, i)$withinss)\n",
        "plot(1:10,\n",
        "     wcss,\n",
        "     type = 'b',\n",
        "     main = paste('The Elbow Method'),\n",
        "     xlab = 'Number of clusters',\n",
        "     ylab = 'WSS')\n",
        "\n",
        "kmeans = kmeans(x = dataset, centers = 5)\n",
        "y_kmeans = kmeans$cluster\n",
        "\n",
        "# Visualising the clusters\n",
        "library(cluster)\n",
        "clusplot(dataset,\n",
        "         y_kmeans,\n",
        "         lines = 0,\n",
        "         shade = TRUE,\n",
        "         color = TRUE,\n",
        "         labels = 2,\n",
        "         main = paste('Clusters of customers'),\n",
        "         xlab = 'Annual Income',\n",
        "         ylab = 'Spending Score')\n"
      ],
      "metadata": {
        "id": "K-qSIvE1uvDN"
      },
      "execution_count": null,
      "outputs": []
    },
    {
      "cell_type": "markdown",
      "source": [
        "#Practical 4 - Linear Regression\n"
      ],
      "metadata": {
        "id": "oPKEXNS_uvS1"
      }
    },
    {
      "cell_type": "markdown",
      "source": [
        "##**R**"
      ],
      "metadata": {
        "id": "cyxu53hFTTWD"
      }
    },
    {
      "cell_type": "code",
      "source": [
        "install.packages('caTools')\n",
        "library(caTools)\n",
        "\n",
        "marketing <- read.csv(\"C:\\\\Users\\\\chand\\\\OneDrive\\\\Documents\\\\TCSC\\\\M.sc DS 23-25\\\\SEM2\\\\Practical\\\\BigData\\\\P4_marketing.csv\")\n",
        "ls(marketing)\n",
        "str(marketing)\n",
        "\n",
        "colSums(is.na(marketing))\n",
        "plot(marketing$sales, marketing$youtube, col= rainbow(3))\n",
        "plot(marketing$sales, marketing$facebook, col= rainbow(3))\n",
        "plot(marketing$sales, marketing$newspaper, col= rainbow(3))\n",
        "boxplot(marketing)\n",
        "\n",
        "set.seed(100)\n",
        "sample = sample.split(marketing, SplitRatio = 0.75)\n",
        "train = subset(marketing, sample==TRUE)\n",
        "head(train)\n",
        "str(train)\n",
        "test = subset(marketing, sample==FALSE)\n",
        "str(test)\n",
        "\n",
        "#create the model\n",
        "m1 = lm(sales~youtube+facebook+newspaper, data=train)\n",
        "summary(m1)\n",
        "m2 = lm(sales~youtube+facebook, data=train)\n",
        "summary(m2)\n",
        "\n",
        "#prediction\n",
        "pred = predict(m2, test)\n",
        "summary(pred)\n",
        "View(pred)\n",
        "head(pred)\n",
        "head(test$sales)\n",
        "df = data.frame(cbind(Actual = test$sales, Prediction = pred))\n",
        "View(df)\n",
        "#RSE\n",
        "(sigma(m2)*100)/mean(marketing$sales)\n"
      ],
      "metadata": {
        "id": "7MjpEbXiTU_7"
      },
      "execution_count": null,
      "outputs": []
    },
    {
      "cell_type": "markdown",
      "source": [
        "# Practical 5 - Logistic Regression\n",
        "\n"
      ],
      "metadata": {
        "id": "s9ZIKxKAHa2e"
      }
    },
    {
      "cell_type": "markdown",
      "source": [
        "##**R**"
      ],
      "metadata": {
        "id": "HsCYex1STapK"
      }
    },
    {
      "cell_type": "code",
      "source": [
        "#install.packages(\"caTools\")    # For Logistic regression\n",
        "library(caTools)\n",
        "\n",
        "#fetch the data\n",
        "college <- read.csv(\"C:\\\\Users\\\\chand\\\\OneDrive\\\\Documents\\\\TCSC\\\\M.sc DS 23-25\\\\SEM2\\\\Practical\\\\BigData\\\\P5_6_studentmarks.csv\")\n",
        "head(college)\n",
        "nrow(college)\n",
        "\n",
        "split <- sample.split(college, SplitRatio = 0.75)\n",
        "\n",
        "training_reg <- subset(college, split == \"TRUE\")\n",
        "test_reg <- subset(college, split == \"FALSE\")\n",
        "\n",
        "# Training model\n",
        "fit_logistic_model <- glm(admit ~ .,\n",
        "                      data = training_reg,\n",
        "                      family = \"binomial\")\n",
        "\n",
        "# Predict test data based on model\n",
        "predict_reg <- predict(fit_logistic_model,\n",
        "                       test_reg, type = \"response\")\n",
        "\n",
        "cdplot(as.factor(admit)~ gpa, data=college)\n",
        "cdplot(as.factor(admit)~ gre, data=college)\n",
        "cdplot(as.factor(admit)~ rank, data=college)\n",
        "\n",
        "# Changing probabilities\n",
        "predict_reg <- ifelse(predict_reg >0.5, 1, 0)\n",
        "predict_reg\n",
        "\n",
        "# Evaluating model accuracy\n",
        "# using confusion matrix\n",
        "table(test_reg$admit, predict_reg)\n",
        "\n"
      ],
      "metadata": {
        "id": "WgOCsJP9TcBb"
      },
      "execution_count": null,
      "outputs": []
    },
    {
      "cell_type": "markdown",
      "source": [
        "# Practical 6 - Multiple Regression"
      ],
      "metadata": {
        "id": "ZcdRmCbQH4tq"
      }
    },
    {
      "cell_type": "markdown",
      "source": [
        "##**R**"
      ],
      "metadata": {
        "id": "mKvIv6k7Tikp"
      }
    },
    {
      "cell_type": "code",
      "source": [
        "#install.packages(\"caTools\")    # For Logistic regression\n",
        "library(caTools)\n",
        "\n",
        "StudentData <- read.csv(\"C:\\\\Users\\\\chand\\\\OneDrive\\\\Documents\\\\TCSC\\\\M.sc DS 23-25\\\\SEM2\\\\Practical\\\\BigData\\\\P5_6_studentmarks.csv\")\n",
        "head(StudentData)\n",
        "nrow(StudentData)\n",
        "\n",
        "split <- sample.split(StudentData, SplitRatio = 0.75)\n",
        "\n",
        "training_reg <- subset(StudentData, split == \"TRUE\")\n",
        "test_reg <- subset(StudentData, split == \"FALSE\")\n",
        "\n",
        "# Training model\n",
        "fit_MRegressor_model <- lm(formula = admit ~ gre+gpa+rank,\n",
        "                           data = training_reg)\n",
        "\n",
        "# Predict test data based on model\n",
        "predict_reg <- predict(fit_MRegressor_model,\n",
        "                       newdata = test_reg)\n",
        "\n",
        "cdplot(as.factor(admit)~ gpa, data=StudentData)\n",
        "cdplot(as.factor(admit)~ gre, data=StudentData)\n",
        "cdplot(as.factor(admit)~ rank, data=StudentData)\n"
      ],
      "metadata": {
        "id": "KdvpiG8ITkLO"
      },
      "execution_count": null,
      "outputs": []
    },
    {
      "cell_type": "markdown",
      "source": [
        "# Practical 7 - Decision Tree"
      ],
      "metadata": {
        "id": "t1gGNh69IB_1"
      }
    },
    {
      "cell_type": "markdown",
      "source": [
        "##**Python**"
      ],
      "metadata": {
        "id": "UDjRODNUTnbg"
      }
    },
    {
      "cell_type": "code",
      "source": [
        "from sklearn.datasets import load_iris\n",
        "from sklearn.tree import DecisionTreeClassifier, plot_tree\n",
        "from sklearn.model_selection import train_test_split\n",
        "from sklearn.metrics import accuracy_score\n",
        "import matplotlib.pyplot as plt\n",
        "\n",
        "a = load_iris()\n",
        "x = a.data\n",
        "y = a.target\n",
        "\n",
        "x_train, x_test, y_train, y_test = train_test_split(x,y,test_size=0.25)\n",
        "\n",
        "model = DecisionTreeClassifier()\n",
        "model.fit(x_train, y_train)\n",
        "\n",
        "pred = model.predict(x_test)\n",
        "\n",
        "accuracy = accuracy_score(y_test, pred)\n",
        "print(accuracy)\n",
        "\n",
        "plt.figure(figsize=(10,10))\n",
        "plot_tree(model, feature_names=a.feature_names,class_names = a.target_names,filled=True)\n",
        "plt.show()\n"
      ],
      "metadata": {
        "id": "nJcPbHi9IGEg"
      },
      "execution_count": null,
      "outputs": []
    },
    {
      "cell_type": "markdown",
      "source": [
        "# Practical 8 - Text Analysis in R Programming"
      ],
      "metadata": {
        "id": "ynzodi_oIHI9"
      }
    },
    {
      "cell_type": "markdown",
      "source": [
        "##**R**"
      ],
      "metadata": {
        "id": "wXO5JXARUCXD"
      }
    },
    {
      "cell_type": "code",
      "source": [
        "dataset_original = read.delim('/content/drive/MyDrive/BD_Practicals/P8_restaurantreviews.tsv', quote = '', stringsAsFactors = FALSE)\n",
        "install.packages('tm')\n",
        "install.packages('SnowballC')\n",
        "library(tm)\n",
        "library(SnowballC)\n",
        "corpus = VCorpus(VectorSource(dataset_original$Review))\n",
        "corpus = tm_map(corpus, content_transformer(tolower))\n",
        "corpus = tm_map(corpus, removeNumbers)\n",
        "corpus = tm_map(corpus, removePunctuation)\n",
        "corpus = tm_map(corpus, removeWords, stopwords())\n",
        "corpus = tm_map(corpus, stemDocument)\n",
        "corpus = tm_map(corpus, stripWhitespace)\n",
        "dtm =  DocumentTermMatrix(corpus)\n",
        "dtm = removeSparseTerms(dtm, 0.999)\n",
        "dataset = as.data.frame(as.matrix(dtm))\n",
        "dataset$Liked = dataset_original$Liked\n",
        "print(dataset$Liked)\n",
        "dataset$Liked = factor(dataset$Liked, levels = c(0,1))\n",
        "install.packages(caTools)\n",
        "library(caTools)\n",
        "set.seed(123)\n",
        "split = sample.split(dataset$Liked, SplitRatio = 0.8)\n",
        "training_set = subset(dataset, split == TRUE)\n",
        "test_set = subset(dataset, split == FALSE)\n",
        "install.packages('randomForest')\n",
        "library(randomForest)\n",
        "classifier = randomForest(x = training_set[-692],\n",
        "                          y = training_set$Liked,\n",
        "                          ntree = 10)\n",
        "y_pred = predict(classifier, newdata = test_set[-692])\n",
        "cm = table(test_set[,692], y_pred)\n",
        "print(cm)"
      ],
      "metadata": {
        "id": "jQ9X6pMGILtR"
      },
      "execution_count": null,
      "outputs": []
    },
    {
      "cell_type": "code",
      "source": [],
      "metadata": {
        "id": "pjHJPqq525gX"
      },
      "execution_count": null,
      "outputs": []
    },
    {
      "cell_type": "markdown",
      "source": [
        "# Practical 10 - Time Series Analysis"
      ],
      "metadata": {
        "id": "nqJZd-Cg2yx7"
      }
    },
    {
      "cell_type": "markdown",
      "source": [
        "## **Python**"
      ],
      "metadata": {
        "id": "TXxnsZWm27Xj"
      }
    },
    {
      "cell_type": "code",
      "source": [
        "import pandas as pd\n",
        "import numpy as np\n",
        "import matplotlib.pyplot as plt\n",
        "from statsmodels.tsa.ar_model import AutoReg\n",
        "\n",
        "url='https://raw.githubusercontent.com/jenfly/opsd/master/opsd_germany_daily.csv'\n",
        "df = pd.read_csv(url,sep=\",\")\n",
        "df['Consumption'].plot()\n",
        "\n",
        "train_data = df['Consumption'][:len(df)-100]\n",
        "test_data = df['Consumption'][len(df)-100:]\n",
        "\n",
        "ar_model = AutoReg(train_data, lags=8).fit()\n",
        "print(ar_model.summary())\n",
        "\n",
        "pred = ar_model.predict(start=len(train_data), end=(len(df)-1), dynamic=False)\n",
        "plt.plot(pred)\n",
        "plt.plot(test_data, color='red')\n",
        "plt.show()\n"
      ],
      "metadata": {
        "id": "0OO2lU263JBB",
        "outputId": "2490a0fd-5292-44c1-d3ab-0adaf5ba9aba",
        "colab": {
          "base_uri": "https://localhost:8080/",
          "height": 1000
        }
      },
      "execution_count": 4,
      "outputs": [
        {
          "output_type": "stream",
          "name": "stdout",
          "text": [
            "                            AutoReg Model Results                             \n",
            "==============================================================================\n",
            "Dep. Variable:            Consumption   No. Observations:                 4283\n",
            "Model:                     AutoReg(8)   Log Likelihood              -24231.812\n",
            "Method:               Conditional MLE   S.D. of innovations             70.058\n",
            "Date:                Sun, 07 Apr 2024   AIC                          48483.625\n",
            "Time:                        07:31:15   BIC                          48547.230\n",
            "Sample:                             8   HQIC                         48506.095\n",
            "                                 4283                                         \n",
            "==================================================================================\n",
            "                     coef    std err          z      P>|z|      [0.025      0.975]\n",
            "----------------------------------------------------------------------------------\n",
            "const            121.2792     14.444      8.397      0.000      92.969     149.589\n",
            "Consumption.L1     0.6393      0.013     47.751      0.000       0.613       0.666\n",
            "Consumption.L2    -0.0966      0.011     -8.424      0.000      -0.119      -0.074\n",
            "Consumption.L3     0.0677      0.012      5.879      0.000       0.045       0.090\n",
            "Consumption.L4    -0.0538      0.012     -4.653      0.000      -0.076      -0.031\n",
            "Consumption.L5    -0.0092      0.012     -0.793      0.428      -0.032       0.014\n",
            "Consumption.L6     0.0619      0.012      5.371      0.000       0.039       0.085\n",
            "Consumption.L7     0.7832      0.011     68.283      0.000       0.761       0.806\n",
            "Consumption.L8    -0.4833      0.013    -36.107      0.000      -0.510      -0.457\n",
            "                                    Roots                                    \n",
            "=============================================================================\n",
            "                  Real          Imaginary           Modulus         Frequency\n",
            "-----------------------------------------------------------------------------\n",
            "AR.1           -0.9434           -0.4695j            1.0538           -0.4265\n",
            "AR.2           -0.9434           +0.4695j            1.0538            0.4265\n",
            "AR.3           -0.2332           -0.9929j            1.0199           -0.2867\n",
            "AR.4           -0.2332           +0.9929j            1.0199            0.2867\n",
            "AR.5            0.6323           -0.7958j            1.0164           -0.1431\n",
            "AR.6            0.6323           +0.7958j            1.0164            0.1431\n",
            "AR.7            1.0362           -0.0000j            1.0362           -0.0000\n",
            "AR.8            1.6730           -0.0000j            1.6730           -0.0000\n",
            "-----------------------------------------------------------------------------\n"
          ]
        },
        {
          "output_type": "display_data",
          "data": {
            "text/plain": [
              "<Figure size 640x480 with 1 Axes>"
            ],
            "image/png": "[encoded data removed]"
          },
          "metadata": {}
        }
      ]
    },
    {
      "cell_type": "markdown",
      "source": [
        "#END\n",
        "----\n",
        "\n"
      ],
      "metadata": {
        "id": "0KOx5sAcUHgZ"
      }
    }
  ]
}
